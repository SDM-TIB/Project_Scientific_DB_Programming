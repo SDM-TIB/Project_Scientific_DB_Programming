{
 "cells": [
  {
   "cell_type": "code",
   "execution_count": 1,
   "id": "4e81ae05",
   "metadata": {},
   "outputs": [],
   "source": [
    "import pandas as pd\n",
    "from rdflib import Graph\n",
    "from rdflib.plugins.sparql.processor import SPARQLResult"
   ]
  },
  {
   "cell_type": "code",
   "execution_count": 2,
   "id": "fd97b27f",
   "metadata": {},
   "outputs": [],
   "source": [
    "def sparql_results_to_df(results: SPARQLResult) -> pd.DataFrame:\n",
    "    \"\"\"\n",
    "    Export results from an rdflib SPARQL query into a `pandas.DataFrame`,\n",
    "    using Python types. See https://github.com/RDFLib/rdflib/issues/1179.\n",
    "    \"\"\"\n",
    "    return pd.DataFrame(\n",
    "        data=([None if x is None else x.toPython() for x in row] for row in results),\n",
    "        columns=[str(x) for x in results.vars],\n",
    "    )"
   ]
  },
  {
   "cell_type": "code",
   "execution_count": 3,
   "id": "2a21754c",
   "metadata": {},
   "outputs": [
    {
     "data": {
      "text/plain": [
       "<Graph identifier=N0d55bebad0974b47af2a1a27c6bcaf9b (<class 'rdflib.graph.Graph'>)>"
      ]
     },
     "execution_count": 3,
     "metadata": {},
     "output_type": "execute_result"
    }
   ],
   "source": [
    "g = Graph()\n",
    "g.parse(\"dataset/graph/ddidpi.nt\", format=\"ttl\")"
   ]
  },
  {
   "cell_type": "code",
   "execution_count": 4,
   "id": "60f1116f",
   "metadata": {},
   "outputs": [
    {
     "data": {
      "text/html": [
       "<div>\n",
       "<style scoped>\n",
       "    .dataframe tbody tr th:only-of-type {\n",
       "        vertical-align: middle;\n",
       "    }\n",
       "\n",
       "    .dataframe tbody tr th {\n",
       "        vertical-align: top;\n",
       "    }\n",
       "\n",
       "    .dataframe thead th {\n",
       "        text-align: right;\n",
       "    }\n",
       "</style>\n",
       "<table border=\"1\" class=\"dataframe\">\n",
       "  <thead>\n",
       "    <tr style=\"text-align: right;\">\n",
       "      <th></th>\n",
       "      <th>precipitant</th>\n",
       "      <th>precipitant_dbpedia</th>\n",
       "      <th>object</th>\n",
       "      <th>object_dbpedia</th>\n",
       "      <th>effect</th>\n",
       "      <th>impact</th>\n",
       "      <th>protein</th>\n",
       "      <th>category</th>\n",
       "      <th>action</th>\n",
       "      <th>gene</th>\n",
       "      <th>organism</th>\n",
       "      <th>pubmed</th>\n",
       "    </tr>\n",
       "  </thead>\n",
       "  <tbody>\n",
       "    <tr>\n",
       "      <th>0</th>\n",
       "      <td>http://www.project-ddidpi.de/Drug/DB00327</td>\n",
       "      <td>http://dbpedia.org/resource/Hydromorphone</td>\n",
       "      <td>http://www.project-ddidpi.de/Drug/DB00331</td>\n",
       "      <td>http://dbpedia.org/resource/Metformin</td>\n",
       "      <td>excretion</td>\n",
       "      <td>decrease</td>\n",
       "      <td>http://www.project-ddidpi.de/Protein/O15244</td>\n",
       "      <td>transporter</td>\n",
       "      <td>substrate|inhibitor</td>\n",
       "      <td>http://purl.uniprot.org/geneid/6582</td>\n",
       "      <td>Human</td>\n",
       "      <td>http://purl.uniprot.org/pubmed/16272756</td>\n",
       "    </tr>\n",
       "    <tr>\n",
       "      <th>1</th>\n",
       "      <td>http://www.project-ddidpi.de/Drug/DB00619</td>\n",
       "      <td>http://dbpedia.org/resource/Imatinib</td>\n",
       "      <td>http://www.project-ddidpi.de/Drug/DB00331</td>\n",
       "      <td>http://dbpedia.org/resource/Metformin</td>\n",
       "      <td>serum_concentration</td>\n",
       "      <td>increase</td>\n",
       "      <td>http://www.project-ddidpi.de/Protein/O15244</td>\n",
       "      <td>transporter</td>\n",
       "      <td>substrate|inhibitor</td>\n",
       "      <td>http://purl.uniprot.org/geneid/6582</td>\n",
       "      <td>Human</td>\n",
       "      <td>http://purl.uniprot.org/pubmed/16272756</td>\n",
       "    </tr>\n",
       "    <tr>\n",
       "      <th>2</th>\n",
       "      <td>http://www.project-ddidpi.de/Drug/DB01333</td>\n",
       "      <td>http://dbpedia.org/resource/Cefradine</td>\n",
       "      <td>http://www.project-ddidpi.de/Drug/DB00331</td>\n",
       "      <td>http://dbpedia.org/resource/Metformin</td>\n",
       "      <td>serum_concentration</td>\n",
       "      <td>increase</td>\n",
       "      <td>http://www.project-ddidpi.de/Protein/O15244</td>\n",
       "      <td>transporter</td>\n",
       "      <td>substrate|inhibitor</td>\n",
       "      <td>http://purl.uniprot.org/geneid/6582</td>\n",
       "      <td>Human</td>\n",
       "      <td>http://purl.uniprot.org/pubmed/16272756</td>\n",
       "    </tr>\n",
       "    <tr>\n",
       "      <th>3</th>\n",
       "      <td>http://www.project-ddidpi.de/Drug/DB09285</td>\n",
       "      <td>http://dbpedia.org/resource/Morniflumate</td>\n",
       "      <td>http://www.project-ddidpi.de/Drug/DB00331</td>\n",
       "      <td>http://dbpedia.org/resource/Metformin</td>\n",
       "      <td>serum_concentration</td>\n",
       "      <td>increase</td>\n",
       "      <td>http://www.project-ddidpi.de/Protein/O15244</td>\n",
       "      <td>transporter</td>\n",
       "      <td>substrate|inhibitor</td>\n",
       "      <td>http://purl.uniprot.org/geneid/6582</td>\n",
       "      <td>Human</td>\n",
       "      <td>http://purl.uniprot.org/pubmed/16272756</td>\n",
       "    </tr>\n",
       "    <tr>\n",
       "      <th>4</th>\n",
       "      <td>http://www.project-ddidpi.de/Drug/DB06737</td>\n",
       "      <td>http://dbpedia.org/resource/Zaltoprofen</td>\n",
       "      <td>http://www.project-ddidpi.de/Drug/DB00331</td>\n",
       "      <td>http://dbpedia.org/resource/Metformin</td>\n",
       "      <td>excretion</td>\n",
       "      <td>decrease</td>\n",
       "      <td>http://www.project-ddidpi.de/Protein/O15244</td>\n",
       "      <td>transporter</td>\n",
       "      <td>substrate|inhibitor</td>\n",
       "      <td>http://purl.uniprot.org/geneid/6582</td>\n",
       "      <td>Human</td>\n",
       "      <td>http://purl.uniprot.org/pubmed/16272756</td>\n",
       "    </tr>\n",
       "  </tbody>\n",
       "</table>\n",
       "</div>"
      ],
      "text/plain": [
       "                                 precipitant  \\\n",
       "0  http://www.project-ddidpi.de/Drug/DB00327   \n",
       "1  http://www.project-ddidpi.de/Drug/DB00619   \n",
       "2  http://www.project-ddidpi.de/Drug/DB01333   \n",
       "3  http://www.project-ddidpi.de/Drug/DB09285   \n",
       "4  http://www.project-ddidpi.de/Drug/DB06737   \n",
       "\n",
       "                         precipitant_dbpedia  \\\n",
       "0  http://dbpedia.org/resource/Hydromorphone   \n",
       "1       http://dbpedia.org/resource/Imatinib   \n",
       "2      http://dbpedia.org/resource/Cefradine   \n",
       "3   http://dbpedia.org/resource/Morniflumate   \n",
       "4    http://dbpedia.org/resource/Zaltoprofen   \n",
       "\n",
       "                                      object  \\\n",
       "0  http://www.project-ddidpi.de/Drug/DB00331   \n",
       "1  http://www.project-ddidpi.de/Drug/DB00331   \n",
       "2  http://www.project-ddidpi.de/Drug/DB00331   \n",
       "3  http://www.project-ddidpi.de/Drug/DB00331   \n",
       "4  http://www.project-ddidpi.de/Drug/DB00331   \n",
       "\n",
       "                          object_dbpedia               effect    impact  \\\n",
       "0  http://dbpedia.org/resource/Metformin            excretion  decrease   \n",
       "1  http://dbpedia.org/resource/Metformin  serum_concentration  increase   \n",
       "2  http://dbpedia.org/resource/Metformin  serum_concentration  increase   \n",
       "3  http://dbpedia.org/resource/Metformin  serum_concentration  increase   \n",
       "4  http://dbpedia.org/resource/Metformin            excretion  decrease   \n",
       "\n",
       "                                       protein     category  \\\n",
       "0  http://www.project-ddidpi.de/Protein/O15244  transporter   \n",
       "1  http://www.project-ddidpi.de/Protein/O15244  transporter   \n",
       "2  http://www.project-ddidpi.de/Protein/O15244  transporter   \n",
       "3  http://www.project-ddidpi.de/Protein/O15244  transporter   \n",
       "4  http://www.project-ddidpi.de/Protein/O15244  transporter   \n",
       "\n",
       "                action                                 gene organism  \\\n",
       "0  substrate|inhibitor  http://purl.uniprot.org/geneid/6582    Human   \n",
       "1  substrate|inhibitor  http://purl.uniprot.org/geneid/6582    Human   \n",
       "2  substrate|inhibitor  http://purl.uniprot.org/geneid/6582    Human   \n",
       "3  substrate|inhibitor  http://purl.uniprot.org/geneid/6582    Human   \n",
       "4  substrate|inhibitor  http://purl.uniprot.org/geneid/6582    Human   \n",
       "\n",
       "                                    pubmed  \n",
       "0  http://purl.uniprot.org/pubmed/16272756  \n",
       "1  http://purl.uniprot.org/pubmed/16272756  \n",
       "2  http://purl.uniprot.org/pubmed/16272756  \n",
       "3  http://purl.uniprot.org/pubmed/16272756  \n",
       "4  http://purl.uniprot.org/pubmed/16272756  "
      ]
     },
     "execution_count": 4,
     "metadata": {},
     "output_type": "execute_result"
    }
   ],
   "source": [
    "query = \"\"\"PREFIX rdf: <http://www.w3.org/1999/02/22-rdf-syntax-ns#>\n",
    "PREFIX ddidpi: <http://www.project-ddidpi.de/vocab/>\n",
    "    \n",
    "select distinct ?precipitant ?precipitant_dbpedia ?object ?object_dbpedia ?effect ?impact\n",
    "                ?protein ?category ?action ?gene ?organism ?pubmed\n",
    "where {\n",
    "    ?ddi ddidpi:hasPrecipitantDrug ?precipitant .\n",
    "    ?precipitant ddidpi:hasDBpediaResource ?precipitant_dbpedia .\n",
    "    ?ddi ddidpi:hasObjectDrug ?object .\n",
    "    ?object ddidpi:hasDBpediaResource ?object_dbpedia .    \n",
    "    ?ddi ddidpi:hasEffect ?effect .\n",
    "    ?ddi ddidpi:hasImpact ?impact .\n",
    "    \n",
    "    ?dpi ddidpi:hasDrugIDforInteraction ?object .\n",
    "    ?dpi ddidpi:hasProteinIDforInteraction ?protein .\n",
    "    ?dpi ddidpi:hasCategory ?category .\n",
    "    ?dpi ddidpi:hasActions ?action .\n",
    "    ?dpi ddidpi:hasEntrez_gene_id ?gene .\n",
    "    ?dpi ddidpi:hasOrganism ?organism .\n",
    "    ?dpi ddidpi:hasPubMedID ?pubmed .\n",
    "    \n",
    "    } LIMIT 5\n",
    "    \"\"\"\n",
    "\n",
    "qres = g.query(query)\n",
    "df1 = sparql_results_to_df(qres)\n",
    "df1\n",
    "# results = g.query(query)"
   ]
  },
  {
   "cell_type": "code",
   "execution_count": 29,
   "id": "59c2d5fe",
   "metadata": {},
   "outputs": [
    {
     "data": {
      "text/html": [
       "<div>\n",
       "<style scoped>\n",
       "    .dataframe tbody tr th:only-of-type {\n",
       "        vertical-align: middle;\n",
       "    }\n",
       "\n",
       "    .dataframe tbody tr th {\n",
       "        vertical-align: top;\n",
       "    }\n",
       "\n",
       "    .dataframe thead th {\n",
       "        text-align: right;\n",
       "    }\n",
       "</style>\n",
       "<table border=\"1\" class=\"dataframe\">\n",
       "  <thead>\n",
       "    <tr style=\"text-align: right;\">\n",
       "      <th></th>\n",
       "      <th>s</th>\n",
       "      <th>o</th>\n",
       "    </tr>\n",
       "  </thead>\n",
       "  <tbody>\n",
       "    <tr>\n",
       "      <th>0</th>\n",
       "      <td>http://www.project-ddidpi.de/Drug/DB04893</td>\n",
       "      <td>http://www.project-ddidpi.de/Protein/P49356</td>\n",
       "    </tr>\n",
       "    <tr>\n",
       "      <th>1</th>\n",
       "      <td>http://www.project-ddidpi.de/Drug/DB07227</td>\n",
       "      <td>http://www.project-ddidpi.de/Protein/P49356</td>\n",
       "    </tr>\n",
       "    <tr>\n",
       "      <th>2</th>\n",
       "      <td>http://www.project-ddidpi.de/Drug/DB08676</td>\n",
       "      <td>http://www.project-ddidpi.de/Protein/P49356</td>\n",
       "    </tr>\n",
       "    <tr>\n",
       "      <th>3</th>\n",
       "      <td>http://www.project-ddidpi.de/Drug/DB06953</td>\n",
       "      <td>http://www.project-ddidpi.de/Protein/P49356</td>\n",
       "    </tr>\n",
       "    <tr>\n",
       "      <th>4</th>\n",
       "      <td>http://www.project-ddidpi.de/Drug/DB07780</td>\n",
       "      <td>http://www.project-ddidpi.de/Protein/P49356</td>\n",
       "    </tr>\n",
       "    <tr>\n",
       "      <th>...</th>\n",
       "      <td>...</td>\n",
       "      <td>...</td>\n",
       "    </tr>\n",
       "    <tr>\n",
       "      <th>18043</th>\n",
       "      <td>http://www.project-ddidpi.de/Drug/DB00086</td>\n",
       "      <td>http://www.project-ddidpi.de/Protein/P25116</td>\n",
       "    </tr>\n",
       "    <tr>\n",
       "      <th>18044</th>\n",
       "      <td>http://www.project-ddidpi.de/Drug/DB05361</td>\n",
       "      <td>http://www.project-ddidpi.de/Protein/P25116</td>\n",
       "    </tr>\n",
       "    <tr>\n",
       "      <th>18045</th>\n",
       "      <td>http://www.project-ddidpi.de/Drug/DB01349</td>\n",
       "      <td>http://www.project-ddidpi.de/Protein/P50052</td>\n",
       "    </tr>\n",
       "    <tr>\n",
       "      <th>18046</th>\n",
       "      <td>http://www.project-ddidpi.de/Drug/DB05739</td>\n",
       "      <td>http://www.project-ddidpi.de/Protein/P50052</td>\n",
       "    </tr>\n",
       "    <tr>\n",
       "      <th>18047</th>\n",
       "      <td>http://www.project-ddidpi.de/Drug/DB01956</td>\n",
       "      <td>http://www.project-ddidpi.de/Protein/P37610</td>\n",
       "    </tr>\n",
       "  </tbody>\n",
       "</table>\n",
       "<p>18048 rows × 2 columns</p>\n",
       "</div>"
      ],
      "text/plain": [
       "                                               s  \\\n",
       "0      http://www.project-ddidpi.de/Drug/DB04893   \n",
       "1      http://www.project-ddidpi.de/Drug/DB07227   \n",
       "2      http://www.project-ddidpi.de/Drug/DB08676   \n",
       "3      http://www.project-ddidpi.de/Drug/DB06953   \n",
       "4      http://www.project-ddidpi.de/Drug/DB07780   \n",
       "...                                          ...   \n",
       "18043  http://www.project-ddidpi.de/Drug/DB00086   \n",
       "18044  http://www.project-ddidpi.de/Drug/DB05361   \n",
       "18045  http://www.project-ddidpi.de/Drug/DB01349   \n",
       "18046  http://www.project-ddidpi.de/Drug/DB05739   \n",
       "18047  http://www.project-ddidpi.de/Drug/DB01956   \n",
       "\n",
       "                                                 o  \n",
       "0      http://www.project-ddidpi.de/Protein/P49356  \n",
       "1      http://www.project-ddidpi.de/Protein/P49356  \n",
       "2      http://www.project-ddidpi.de/Protein/P49356  \n",
       "3      http://www.project-ddidpi.de/Protein/P49356  \n",
       "4      http://www.project-ddidpi.de/Protein/P49356  \n",
       "...                                            ...  \n",
       "18043  http://www.project-ddidpi.de/Protein/P25116  \n",
       "18044  http://www.project-ddidpi.de/Protein/P25116  \n",
       "18045  http://www.project-ddidpi.de/Protein/P50052  \n",
       "18046  http://www.project-ddidpi.de/Protein/P50052  \n",
       "18047  http://www.project-ddidpi.de/Protein/P37610  \n",
       "\n",
       "[18048 rows x 2 columns]"
      ]
     },
     "execution_count": 29,
     "metadata": {},
     "output_type": "execute_result"
    }
   ],
   "source": [
    "query = \"\"\"PREFIX rdf: <http://www.w3.org/1999/02/22-rdf-syntax-ns#>\n",
    "PREFIX ddidpi: <http://www.project-ddidpi.de/vocab/>\n",
    "    \n",
    "select distinct ?s ?o\n",
    "where {\n",
    "    ?s a ddidpi:Drug .\n",
    "    ?o a ddidpi:Protein .\n",
    "    ?s ddidpi:interactsWith ?o .\n",
    "    }\n",
    "    \"\"\"\n",
    "\n",
    "qres = g.query(query)\n",
    "df = sparql_results_to_df(qres)\n",
    "df"
   ]
  },
  {
   "cell_type": "code",
   "execution_count": 55,
   "id": "b5693270",
   "metadata": {},
   "outputs": [],
   "source": [
    "df = df.sample(frac = 1)"
   ]
  },
  {
   "cell_type": "code",
   "execution_count": 56,
   "id": "9985af4a",
   "metadata": {},
   "outputs": [
    {
     "data": {
      "text/plain": [
       "(12633, 3)"
      ]
     },
     "metadata": {},
     "output_type": "display_data"
    },
    {
     "data": {
      "text/html": [
       "<div>\n",
       "<style scoped>\n",
       "    .dataframe tbody tr th:only-of-type {\n",
       "        vertical-align: middle;\n",
       "    }\n",
       "\n",
       "    .dataframe tbody tr th {\n",
       "        vertical-align: top;\n",
       "    }\n",
       "\n",
       "    .dataframe thead th {\n",
       "        text-align: right;\n",
       "    }\n",
       "</style>\n",
       "<table border=\"1\" class=\"dataframe\">\n",
       "  <thead>\n",
       "    <tr style=\"text-align: right;\">\n",
       "      <th></th>\n",
       "      <th>s</th>\n",
       "      <th>p</th>\n",
       "      <th>o</th>\n",
       "    </tr>\n",
       "  </thead>\n",
       "  <tbody>\n",
       "    <tr>\n",
       "      <th>9039</th>\n",
       "      <td>&lt;http://www.project-ddidpi.de/Drug/DB00450&gt;</td>\n",
       "      <td>&lt;http://www.project-ddidpi.de/vocab/interactsW...</td>\n",
       "      <td>&lt;http://www.project-ddidpi.de/Protein/P35348&gt;</td>\n",
       "    </tr>\n",
       "  </tbody>\n",
       "</table>\n",
       "</div>"
      ],
      "text/plain": [
       "                                                s  \\\n",
       "9039  <http://www.project-ddidpi.de/Drug/DB00450>   \n",
       "\n",
       "                                                      p  \\\n",
       "9039  <http://www.project-ddidpi.de/vocab/interactsW...   \n",
       "\n",
       "                                                  o  \n",
       "9039  <http://www.project-ddidpi.de/Protein/P35348>  "
      ]
     },
     "metadata": {},
     "output_type": "display_data"
    },
    {
     "data": {
      "text/plain": [
       "(5415, 3)"
      ]
     },
     "metadata": {},
     "output_type": "display_data"
    },
    {
     "data": {
      "text/html": [
       "<div>\n",
       "<style scoped>\n",
       "    .dataframe tbody tr th:only-of-type {\n",
       "        vertical-align: middle;\n",
       "    }\n",
       "\n",
       "    .dataframe tbody tr th {\n",
       "        vertical-align: top;\n",
       "    }\n",
       "\n",
       "    .dataframe thead th {\n",
       "        text-align: right;\n",
       "    }\n",
       "</style>\n",
       "<table border=\"1\" class=\"dataframe\">\n",
       "  <thead>\n",
       "    <tr style=\"text-align: right;\">\n",
       "      <th></th>\n",
       "      <th>s</th>\n",
       "      <th>p</th>\n",
       "      <th>o</th>\n",
       "    </tr>\n",
       "  </thead>\n",
       "  <tbody>\n",
       "    <tr>\n",
       "      <th>4059</th>\n",
       "      <td>&lt;http://www.project-ddidpi.de/Drug/DB01295&gt;</td>\n",
       "      <td>&lt;http://www.project-ddidpi.de/vocab/interactsW...</td>\n",
       "      <td>&lt;http://www.project-ddidpi.de/Protein/P08588&gt;</td>\n",
       "    </tr>\n",
       "  </tbody>\n",
       "</table>\n",
       "</div>"
      ],
      "text/plain": [
       "                                                s  \\\n",
       "4059  <http://www.project-ddidpi.de/Drug/DB01295>   \n",
       "\n",
       "                                                      p  \\\n",
       "4059  <http://www.project-ddidpi.de/vocab/interactsW...   \n",
       "\n",
       "                                                  o  \n",
       "4059  <http://www.project-ddidpi.de/Protein/P08588>  "
      ]
     },
     "metadata": {},
     "output_type": "display_data"
    }
   ],
   "source": [
    "cut_off = int((df.shape[0]*70)/100)\n",
    "train = df[:cut_off].copy()\n",
    "test = df[cut_off:].copy()\n",
    "\n",
    "test['s'] = '<' + test['s'].astype(str) + '>'\n",
    "test['o'] = '<' + test['o'].astype(str) + '>'\n",
    "test['p'] = \"<http://www.project-ddidpi.de/vocab/interactsWith>\"\n",
    "test = test[['s', 'p', 'o']]\n",
    "\n",
    "train['s'] = '<' + train['s'].astype(str) + '>'\n",
    "train['o'] = '<' + train['o'].astype(str) + '>'\n",
    "train['p'] = \"<http://www.project-ddidpi.de/vocab/interactsWith>\"\n",
    "train = train[['s', 'p', 'o']]\n",
    "display(train.shape, train.head(1), test.shape, test.head(1))"
   ]
  },
  {
   "cell_type": "code",
   "execution_count": 57,
   "id": "5de8967e",
   "metadata": {},
   "outputs": [
    {
     "data": {
      "text/plain": [
       "(4567885, 3)"
      ]
     },
     "metadata": {},
     "output_type": "display_data"
    },
    {
     "data": {
      "text/html": [
       "<div>\n",
       "<style scoped>\n",
       "    .dataframe tbody tr th:only-of-type {\n",
       "        vertical-align: middle;\n",
       "    }\n",
       "\n",
       "    .dataframe tbody tr th {\n",
       "        vertical-align: top;\n",
       "    }\n",
       "\n",
       "    .dataframe thead th {\n",
       "        text-align: right;\n",
       "    }\n",
       "</style>\n",
       "<table border=\"1\" class=\"dataframe\">\n",
       "  <thead>\n",
       "    <tr style=\"text-align: right;\">\n",
       "      <th></th>\n",
       "      <th>s</th>\n",
       "      <th>p</th>\n",
       "      <th>o</th>\n",
       "    </tr>\n",
       "  </thead>\n",
       "  <tbody>\n",
       "    <tr>\n",
       "      <th>0</th>\n",
       "      <td>&lt;http://www.project-ddidpi.de/DPI/DB00001-P00734&gt;</td>\n",
       "      <td>&lt;http://www.w3.org/1999/02/22-rdf-syntax-ns#type&gt;</td>\n",
       "      <td>&lt;http://www.project-ddidpi.de/vocab/DPI&gt;</td>\n",
       "    </tr>\n",
       "    <tr>\n",
       "      <th>1</th>\n",
       "      <td>&lt;http://www.project-ddidpi.de/DPI/DB00001-P00734&gt;</td>\n",
       "      <td>&lt;http://www.project-ddidpi.de/vocab/hasPubMedID&gt;</td>\n",
       "      <td>&lt;http://purl.uniprot.org/pubmed/10505536&gt;</td>\n",
       "    </tr>\n",
       "  </tbody>\n",
       "</table>\n",
       "</div>"
      ],
      "text/plain": [
       "                                                   s  \\\n",
       "0  <http://www.project-ddidpi.de/DPI/DB00001-P00734>   \n",
       "1  <http://www.project-ddidpi.de/DPI/DB00001-P00734>   \n",
       "\n",
       "                                                   p  \\\n",
       "0  <http://www.w3.org/1999/02/22-rdf-syntax-ns#type>   \n",
       "1   <http://www.project-ddidpi.de/vocab/hasPubMedID>   \n",
       "\n",
       "                                           o  \n",
       "0   <http://www.project-ddidpi.de/vocab/DPI>  \n",
       "1  <http://purl.uniprot.org/pubmed/10505536>  "
      ]
     },
     "metadata": {},
     "output_type": "display_data"
    }
   ],
   "source": [
    "path = 'dataset/graph/'\n",
    "kg = pd.read_csv(path + 'ddidpi.nt', sep=' ', header=None)\n",
    "kg.columns = ['s', 'p', 'o']\n",
    "kg.replace('>.', '>', regex=True, inplace=True)\n",
    "display(kg.shape, kg.head(2))"
   ]
  },
  {
   "cell_type": "code",
   "execution_count": 58,
   "id": "c4d2f913",
   "metadata": {},
   "outputs": [
    {
     "data": {
      "text/plain": [
       "(4562470, 4)"
      ]
     },
     "metadata": {},
     "output_type": "display_data"
    },
    {
     "data": {
      "text/html": [
       "<div>\n",
       "<style scoped>\n",
       "    .dataframe tbody tr th:only-of-type {\n",
       "        vertical-align: middle;\n",
       "    }\n",
       "\n",
       "    .dataframe tbody tr th {\n",
       "        vertical-align: top;\n",
       "    }\n",
       "\n",
       "    .dataframe thead th {\n",
       "        text-align: right;\n",
       "    }\n",
       "</style>\n",
       "<table border=\"1\" class=\"dataframe\">\n",
       "  <thead>\n",
       "    <tr style=\"text-align: right;\">\n",
       "      <th></th>\n",
       "      <th>s</th>\n",
       "      <th>p</th>\n",
       "      <th>o</th>\n",
       "      <th>_merge</th>\n",
       "    </tr>\n",
       "  </thead>\n",
       "  <tbody>\n",
       "    <tr>\n",
       "      <th>0</th>\n",
       "      <td>&lt;http://www.project-ddidpi.de/DPI/DB00001-P00734&gt;</td>\n",
       "      <td>&lt;http://www.w3.org/1999/02/22-rdf-syntax-ns#type&gt;</td>\n",
       "      <td>&lt;http://www.project-ddidpi.de/vocab/DPI&gt;</td>\n",
       "      <td>left_only</td>\n",
       "    </tr>\n",
       "    <tr>\n",
       "      <th>1</th>\n",
       "      <td>&lt;http://www.project-ddidpi.de/DPI/DB00001-P00734&gt;</td>\n",
       "      <td>&lt;http://www.project-ddidpi.de/vocab/hasPubMedID&gt;</td>\n",
       "      <td>&lt;http://purl.uniprot.org/pubmed/10505536&gt;</td>\n",
       "      <td>left_only</td>\n",
       "    </tr>\n",
       "  </tbody>\n",
       "</table>\n",
       "</div>"
      ],
      "text/plain": [
       "                                                   s  \\\n",
       "0  <http://www.project-ddidpi.de/DPI/DB00001-P00734>   \n",
       "1  <http://www.project-ddidpi.de/DPI/DB00001-P00734>   \n",
       "\n",
       "                                                   p  \\\n",
       "0  <http://www.w3.org/1999/02/22-rdf-syntax-ns#type>   \n",
       "1   <http://www.project-ddidpi.de/vocab/hasPubMedID>   \n",
       "\n",
       "                                           o     _merge  \n",
       "0   <http://www.project-ddidpi.de/vocab/DPI>  left_only  \n",
       "1  <http://purl.uniprot.org/pubmed/10505536>  left_only  "
      ]
     },
     "metadata": {},
     "output_type": "display_data"
    }
   ],
   "source": [
    "train_set = kg.merge(test, how = 'outer' , on=['s', 'p', 'o'], indicator=True).loc[lambda x : x['_merge']=='left_only']\n",
    "display(train_set.shape, train_set.head(2))"
   ]
  },
  {
   "cell_type": "code",
   "execution_count": 59,
   "id": "dfb80db6",
   "metadata": {},
   "outputs": [],
   "source": [
    "train_set = train_set.drop(columns='_merge')\n",
    "train_set.to_csv('Embedding/V1/train_set.ttl', columns=None, index=None, sep='\\t')"
   ]
  },
  {
   "cell_type": "code",
   "execution_count": 60,
   "id": "04eb0cd7",
   "metadata": {},
   "outputs": [],
   "source": [
    "test.to_csv('Embedding/V1/test_set.ttl', columns=None, index=None, sep='\\t')"
   ]
  },
  {
   "cell_type": "code",
   "execution_count": null,
   "id": "48484e7e",
   "metadata": {},
   "outputs": [],
   "source": []
  },
  {
   "cell_type": "code",
   "execution_count": null,
   "id": "7d924ecd",
   "metadata": {},
   "outputs": [],
   "source": []
  },
  {
   "cell_type": "code",
   "execution_count": null,
   "id": "2b49d3af",
   "metadata": {},
   "outputs": [],
   "source": []
  },
  {
   "cell_type": "code",
   "execution_count": 7,
   "id": "0ee3a6e4",
   "metadata": {},
   "outputs": [],
   "source": [
    "def get_triples_DPI(drug, protein):\n",
    "    query = \"\"\"PREFIX rdf: <http://www.w3.org/1999/02/22-rdf-syntax-ns#>\n",
    "PREFIX ddidpi: <http://www.project-ddidpi.de/vocab/>\n",
    "\n",
    "select distinct ?dpi ?p ?o\n",
    "where {\n",
    "    ?dpi a ddidpi:DPI .\n",
    "\n",
    "    ?dpi ddidpi:hasDrugIDforInteraction <\"\"\" + drug +\"\"\"> .\n",
    "    ?dpi ddidpi:hasProteinIDforInteraction <\"\"\" + protein +\"\"\"> .\n",
    "    ?dpi ?p ?o .\n",
    "    }\n",
    "    \"\"\"\n",
    "\n",
    "    qres = g.query(query)\n",
    "    return sparql_results_to_df(qres)"
   ]
  },
  {
   "cell_type": "code",
   "execution_count": 9,
   "id": "69ccd01d",
   "metadata": {},
   "outputs": [
    {
     "data": {
      "text/plain": [
       "(51897, 3)"
      ]
     },
     "metadata": {},
     "output_type": "display_data"
    },
    {
     "data": {
      "text/html": [
       "<div>\n",
       "<style scoped>\n",
       "    .dataframe tbody tr th:only-of-type {\n",
       "        vertical-align: middle;\n",
       "    }\n",
       "\n",
       "    .dataframe tbody tr th {\n",
       "        vertical-align: top;\n",
       "    }\n",
       "\n",
       "    .dataframe thead th {\n",
       "        text-align: right;\n",
       "    }\n",
       "</style>\n",
       "<table border=\"1\" class=\"dataframe\">\n",
       "  <thead>\n",
       "    <tr style=\"text-align: right;\">\n",
       "      <th></th>\n",
       "      <th>dpi</th>\n",
       "      <th>p</th>\n",
       "      <th>o</th>\n",
       "    </tr>\n",
       "  </thead>\n",
       "  <tbody>\n",
       "    <tr>\n",
       "      <th>0</th>\n",
       "      <td>http://www.project-ddidpi.de/DPI/DB03881-P00491</td>\n",
       "      <td>http://www.w3.org/1999/02/22-rdf-syntax-ns#type</td>\n",
       "      <td>http://www.project-ddidpi.de/vocab/DPI</td>\n",
       "    </tr>\n",
       "    <tr>\n",
       "      <th>1</th>\n",
       "      <td>http://www.project-ddidpi.de/DPI/DB03881-P00491</td>\n",
       "      <td>http://www.project-ddidpi.de/vocab/hasEntrez_g...</td>\n",
       "      <td>http://purl.uniprot.org/geneid/4860</td>\n",
       "    </tr>\n",
       "  </tbody>\n",
       "</table>\n",
       "</div>"
      ],
      "text/plain": [
       "                                               dpi  \\\n",
       "0  http://www.project-ddidpi.de/DPI/DB03881-P00491   \n",
       "1  http://www.project-ddidpi.de/DPI/DB03881-P00491   \n",
       "\n",
       "                                                   p  \\\n",
       "0    http://www.w3.org/1999/02/22-rdf-syntax-ns#type   \n",
       "1  http://www.project-ddidpi.de/vocab/hasEntrez_g...   \n",
       "\n",
       "                                        o  \n",
       "0  http://www.project-ddidpi.de/vocab/DPI  \n",
       "1     http://purl.uniprot.org/geneid/4860  "
      ]
     },
     "metadata": {},
     "output_type": "display_data"
    }
   ],
   "source": [
    "dataset = pd.DataFrame()\n",
    "for i, row in test.iterrows():\n",
    "    d = row['drug']\n",
    "    p = row['protein']\n",
    "    \n",
    "    to_add = get_triples_DPI(d, p)\n",
    "    dataset = pd.concat([dataset, to_add])\n",
    "    \n",
    "display(dataset.shape, dataset.head(2))"
   ]
  },
  {
   "cell_type": "code",
   "execution_count": 6,
   "id": "6f0c3017",
   "metadata": {},
   "outputs": [
    {
     "name": "stdout",
     "output_type": "stream",
     "text": [
      "['http://www.project-ddidpi.de/vocab/hasObjectDrug'\n",
      " 'http://www.w3.org/1999/02/22-rdf-syntax-ns#type'\n",
      " 'http://www.project-ddidpi.de/vocab/hasPrecipitantDrug'\n",
      " 'http://www.project-ddidpi.de/vocab/hasEffect'\n",
      " 'http://www.project-ddidpi.de/vocab/hasInteractionDescription'\n",
      " 'http://www.project-ddidpi.de/vocab/hasImpact'\n",
      " 'http://www.project-ddidpi.de/vocab/hasDrugIDforInteraction'\n",
      " 'http://www.project-ddidpi.de/vocab/hasPubMedID'\n",
      " 'http://www.project-ddidpi.de/vocab/hasKnownAction'\n",
      " 'http://www.project-ddidpi.de/vocab/hasCategory'\n",
      " 'http://www.project-ddidpi.de/vocab/hasEntrez_gene_id'\n",
      " 'http://www.project-ddidpi.de/vocab/interactsWith'\n",
      " 'http://www.project-ddidpi.de/vocab/hasOrganism'\n",
      " 'http://www.project-ddidpi.de/vocab/hasActions'\n",
      " 'http://www.project-ddidpi.de/vocab/hasProteinIDforInteraction'\n",
      " 'http://www.project-ddidpi.de/vocab/hasDrugID'\n",
      " 'http://www.project-ddidpi.de/vocab/hasDBpediaResource'\n",
      " 'http://www.project-ddidpi.de/vocab/hasProteinID'\n",
      " 'http://www.project-ddidpi.de/vocab/hasAnnonationCUI'\n",
      " 'http://www.project-ddidpi.de/vocab/hasDrugName']\n"
     ]
    }
   ],
   "source": [
    "for i, row in df1.iteritems():\n",
    "    print(row.values)"
   ]
  },
  {
   "cell_type": "code",
   "execution_count": null,
   "id": "cf20aaad",
   "metadata": {},
   "outputs": [],
   "source": []
  },
  {
   "cell_type": "code",
   "execution_count": null,
   "id": "7c471108",
   "metadata": {},
   "outputs": [],
   "source": []
  },
  {
   "cell_type": "code",
   "execution_count": null,
   "id": "9fbaf79a",
   "metadata": {},
   "outputs": [],
   "source": []
  },
  {
   "cell_type": "code",
   "execution_count": null,
   "id": "e0e75a4d",
   "metadata": {},
   "outputs": [],
   "source": []
  },
  {
   "cell_type": "code",
   "execution_count": 44,
   "id": "10673e24",
   "metadata": {},
   "outputs": [],
   "source": [
    "def save_graph(path, line, name):\n",
    "    with open(path + name, 'a') as file:\n",
    "        file.write(line)\n",
    "\n",
    "\n",
    "def preprocess_v1(lines):\n",
    "    for line in lines:\n",
    "        s = line.split(' ')[0]\n",
    "        p = line.split(' ')[1]\n",
    "        o = '_'.join(line.split(' ')[2:])\n",
    "        save_graph('V1/', s + '\\t' + p + '\\t' + o)\n",
    "\n",
    "\n",
    "def preprocess_v2(path, lines, name):\n",
    "    for line in lines:\n",
    "#         a = line.replace('>.', '>')\n",
    "        a = line.replace('<http://www.project-ddidpi.de/DPI/', '')\n",
    "        a = a.replace('<http://purl.uniprot.org/pubmed/', 'pubmed:')\n",
    "        a = a.replace('<http://www.project-ddidpi.de/vocab/DPI>', 'DPI')\n",
    "        a = a.replace('<http://www.project-ddidpi.de/vocab/', '')\n",
    "        a = a.replace('<http://www.w3.org/1999/02/22-rdf-syntax-ns#', '')\n",
    "        a = a.replace('<http://www.project-ddidpi.de/DDI/', '')\n",
    "        a = a.replace('^^<http://www.w3.org/2001/XMLSchema#string', '')\n",
    "        a = a.replace('<http://www.project-ddidpi.de/Drug/', 'Drug:') \n",
    "\n",
    "        a = a.replace('<http://purl.uniprot.org/uniprot/', 'uniprot:') \n",
    "        a = a.replace('<http://dbpedia.org/resource/', '') \n",
    "        a = a.replace('<http://www.project-ddidpi.de/Annotation/', '') \n",
    "        a = a.replace('<http://www.project-ddidpi.de/Protein/', 'Protein:') \n",
    "        a = a.replace('<http://purl.uniprot.org/geneid/', 'gene:') \n",
    "\n",
    "        a = a.replace('>', '')\n",
    "#         preprocess_v1([a])\n",
    "        save_graph(path, a, name)"
   ]
  },
  {
   "cell_type": "code",
   "execution_count": 61,
   "id": "f930733f",
   "metadata": {},
   "outputs": [],
   "source": [
    "path = 'Embedding/V1/'\n",
    "with open(path + \"train_set.ttl\") as f:\n",
    "    lines = f.readlines()\n",
    "preprocess_v2(path, lines, 'train_set_v1.ttl')\n",
    "\n",
    "with open(path + \"test_set.ttl\") as f:\n",
    "    lines = f.readlines()\n",
    "preprocess_v2(path, lines, 'test_set_v1.ttl')"
   ]
  },
  {
   "cell_type": "code",
   "execution_count": null,
   "id": "f841a285",
   "metadata": {},
   "outputs": [],
   "source": []
  },
  {
   "cell_type": "code",
   "execution_count": 62,
   "id": "d823d170",
   "metadata": {},
   "outputs": [
    {
     "data": {
      "text/html": [
       "<div>\n",
       "<style scoped>\n",
       "    .dataframe tbody tr th:only-of-type {\n",
       "        vertical-align: middle;\n",
       "    }\n",
       "\n",
       "    .dataframe tbody tr th {\n",
       "        vertical-align: top;\n",
       "    }\n",
       "\n",
       "    .dataframe thead th {\n",
       "        text-align: right;\n",
       "    }\n",
       "</style>\n",
       "<table border=\"1\" class=\"dataframe\">\n",
       "  <thead>\n",
       "    <tr style=\"text-align: right;\">\n",
       "      <th></th>\n",
       "      <th>s</th>\n",
       "      <th>p</th>\n",
       "      <th>o</th>\n",
       "    </tr>\n",
       "  </thead>\n",
       "  <tbody>\n",
       "    <tr>\n",
       "      <th>0</th>\n",
       "      <td>Drug:DB01295</td>\n",
       "      <td>interactsWith</td>\n",
       "      <td>Protein:P08588</td>\n",
       "    </tr>\n",
       "    <tr>\n",
       "      <th>1</th>\n",
       "      <td>Drug:DB00157</td>\n",
       "      <td>interactsWith</td>\n",
       "      <td>Protein:Q9UDR5</td>\n",
       "    </tr>\n",
       "    <tr>\n",
       "      <th>2</th>\n",
       "      <td>Drug:DB01694</td>\n",
       "      <td>interactsWith</td>\n",
       "      <td>Protein:Q9NP99</td>\n",
       "    </tr>\n",
       "    <tr>\n",
       "      <th>3</th>\n",
       "      <td>Drug:DB01026</td>\n",
       "      <td>interactsWith</td>\n",
       "      <td>Protein:P24462</td>\n",
       "    </tr>\n",
       "    <tr>\n",
       "      <th>4</th>\n",
       "      <td>Drug:DB02373</td>\n",
       "      <td>interactsWith</td>\n",
       "      <td>Protein:P49789</td>\n",
       "    </tr>\n",
       "    <tr>\n",
       "      <th>...</th>\n",
       "      <td>...</td>\n",
       "      <td>...</td>\n",
       "      <td>...</td>\n",
       "    </tr>\n",
       "    <tr>\n",
       "      <th>5410</th>\n",
       "      <td>Drug:DB04889</td>\n",
       "      <td>interactsWith</td>\n",
       "      <td>Protein:P14416</td>\n",
       "    </tr>\n",
       "    <tr>\n",
       "      <th>5411</th>\n",
       "      <td>Drug:DB02507</td>\n",
       "      <td>interactsWith</td>\n",
       "      <td>Protein:P11712</td>\n",
       "    </tr>\n",
       "    <tr>\n",
       "      <th>5412</th>\n",
       "      <td>Drug:DB04444</td>\n",
       "      <td>interactsWith</td>\n",
       "      <td>Protein:O14983</td>\n",
       "    </tr>\n",
       "    <tr>\n",
       "      <th>5413</th>\n",
       "      <td>Drug:DB01809</td>\n",
       "      <td>interactsWith</td>\n",
       "      <td>Protein:P07949</td>\n",
       "    </tr>\n",
       "    <tr>\n",
       "      <th>5414</th>\n",
       "      <td>Drug:DB08846</td>\n",
       "      <td>interactsWith</td>\n",
       "      <td>Protein:Q9Y2D0</td>\n",
       "    </tr>\n",
       "  </tbody>\n",
       "</table>\n",
       "<p>5415 rows × 3 columns</p>\n",
       "</div>"
      ],
      "text/plain": [
       "                 s              p               o\n",
       "0     Drug:DB01295  interactsWith  Protein:P08588\n",
       "1     Drug:DB00157  interactsWith  Protein:Q9UDR5\n",
       "2     Drug:DB01694  interactsWith  Protein:Q9NP99\n",
       "3     Drug:DB01026  interactsWith  Protein:P24462\n",
       "4     Drug:DB02373  interactsWith  Protein:P49789\n",
       "...            ...            ...             ...\n",
       "5410  Drug:DB04889  interactsWith  Protein:P14416\n",
       "5411  Drug:DB02507  interactsWith  Protein:P11712\n",
       "5412  Drug:DB04444  interactsWith  Protein:O14983\n",
       "5413  Drug:DB01809  interactsWith  Protein:P07949\n",
       "5414  Drug:DB08846  interactsWith  Protein:Q9Y2D0\n",
       "\n",
       "[5415 rows x 3 columns]"
      ]
     },
     "execution_count": 62,
     "metadata": {},
     "output_type": "execute_result"
    }
   ],
   "source": [
    "kg = pd.read_csv(path + 'test_set_v1.ttl', sep='\\t', header=None)\n",
    "kg.columns = ['s', 'p', 'o']\n",
    "kg"
   ]
  },
  {
   "cell_type": "code",
   "execution_count": 72,
   "id": "3b9ce3a0",
   "metadata": {},
   "outputs": [
    {
     "data": {
      "text/plain": [
       "<AxesSubplot:>"
      ]
     },
     "execution_count": 72,
     "metadata": {},
     "output_type": "execute_result"
    },
    {
     "data": {
      "image/png": "[encoded data removed]",
      "text/plain": [
       "<Figure size 432x288 with 1 Axes>"
      ]
     },
     "metadata": {
      "needs_background": "light"
     },
     "output_type": "display_data"
    }
   ],
   "source": [
    "kg.o.value_counts().hist()"
   ]
  },
  {
   "cell_type": "code",
   "execution_count": 73,
   "id": "0fec36f0",
   "metadata": {},
   "outputs": [
    {
     "data": {
      "text/plain": [
       "1703"
      ]
     },
     "execution_count": 73,
     "metadata": {},
     "output_type": "execute_result"
    }
   ],
   "source": [
    "len(kg.o.unique())"
   ]
  },
  {
   "cell_type": "code",
   "execution_count": 74,
   "id": "ab751c03",
   "metadata": {},
   "outputs": [
    {
     "data": {
      "text/plain": [
       "2761"
      ]
     },
     "execution_count": 74,
     "metadata": {},
     "output_type": "execute_result"
    }
   ],
   "source": [
    "len(kg.s.unique())"
   ]
  },
  {
   "cell_type": "code",
   "execution_count": null,
   "id": "40f258be",
   "metadata": {},
   "outputs": [],
   "source": []
  }
 ],
 "metadata": {
  "kernelspec": {
   "display_name": "Python 3 (ipykernel)",
   "language": "python",
   "name": "python3"
  },
  "language_info": {
   "codemirror_mode": {
    "name": "ipython",
    "version": 3
   },
   "file_extension": ".py",
   "mimetype": "text/x-python",
   "name": "python",
   "nbconvert_exporter": "python",
   "pygments_lexer": "ipython3",
   "version": "3.8.13"
  }
 },
 "nbformat": 4,
 "nbformat_minor": 5
}
