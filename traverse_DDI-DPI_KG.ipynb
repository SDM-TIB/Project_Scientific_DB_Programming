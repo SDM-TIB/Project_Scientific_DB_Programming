{
 "cells": [
  {
   "cell_type": "code",
   "execution_count": 3,
   "id": "4e81ae05",
   "metadata": {},
   "outputs": [],
   "source": [
    "import pandas as pd\n",
    "from rdflib import Graph\n",
    "from rdflib.plugins.sparql.processor import SPARQLResult"
   ]
  },
  {
   "cell_type": "code",
   "execution_count": 4,
   "id": "fd97b27f",
   "metadata": {},
   "outputs": [],
   "source": [
    "def sparql_results_to_df(results: SPARQLResult) -> pd.DataFrame:\n",
    "    \"\"\"\n",
    "    Export results from an rdflib SPARQL query into a `pandas.DataFrame`,\n",
    "    using Python types. See https://github.com/RDFLib/rdflib/issues/1179.\n",
    "    \"\"\"\n",
    "    return pd.DataFrame(\n",
    "        data=([None if x is None else x.toPython() for x in row] for row in results),\n",
    "        columns=[str(x) for x in results.vars],\n",
    "    )"
   ]
  },
  {
   "cell_type": "code",
   "execution_count": 5,
   "id": "2a21754c",
   "metadata": {},
   "outputs": [
    {
     "data": {
      "text/plain": [
       "<Graph identifier=Na065cdcf78bf4094ad220f88ad79bc20 (<class 'rdflib.graph.Graph'>)>"
      ]
     },
     "execution_count": 5,
     "metadata": {},
     "output_type": "execute_result"
    }
   ],
   "source": [
    "g = Graph()\n",
    "g.parse(\"dataset/graph/ddidpi.nt\", format=\"ttl\")"
   ]
  },
  {
   "cell_type": "code",
   "execution_count": 11,
   "id": "60f1116f",
   "metadata": {
    "scrolled": true
   },
   "outputs": [
    {
     "ename": "AttributeError",
     "evalue": "can't set attribute",
     "output_type": "error",
     "traceback": [
      "\u001b[1;31m---------------------------------------------------------------------------\u001b[0m",
      "\u001b[1;31mAttributeError\u001b[0m                            Traceback (most recent call last)",
      "\u001b[1;32m~\\AppData\\Local\\Temp/ipykernel_31196/1031234564.py\u001b[0m in \u001b[0;36m<module>\u001b[1;34m\u001b[0m\n\u001b[0;32m     27\u001b[0m \u001b[1;31m#df1 = sparql_results_to_df(qres)\u001b[0m\u001b[1;33m\u001b[0m\u001b[1;33m\u001b[0m\u001b[0m\n\u001b[0;32m     28\u001b[0m \u001b[1;31m#df1\u001b[0m\u001b[1;33m\u001b[0m\u001b[1;33m\u001b[0m\u001b[0m\n\u001b[1;32m---> 29\u001b[1;33m \u001b[0mresults\u001b[0m \u001b[1;33m=\u001b[0m \u001b[0mg\u001b[0m\u001b[1;33m.\u001b[0m\u001b[0mquery\u001b[0m\u001b[1;33m(\u001b[0m\u001b[0mquery\u001b[0m\u001b[1;33m)\u001b[0m\u001b[1;33m\u001b[0m\u001b[1;33m\u001b[0m\u001b[0m\n\u001b[0m",
      "\u001b[1;32m~\\Anaconda3\\lib\\site-packages\\rdflib\\graph.py\u001b[0m in \u001b[0;36mquery\u001b[1;34m(self, query_object, processor, result, initNs, initBindings, use_store_provided, **kwargs)\u001b[0m\n\u001b[0;32m   1082\u001b[0m \u001b[1;33m\u001b[0m\u001b[0m\n\u001b[0;32m   1083\u001b[0m         \u001b[1;32mif\u001b[0m \u001b[1;32mnot\u001b[0m \u001b[0misinstance\u001b[0m\u001b[1;33m(\u001b[0m\u001b[0mresult\u001b[0m\u001b[1;33m,\u001b[0m \u001b[0mquery\u001b[0m\u001b[1;33m.\u001b[0m\u001b[0mResult\u001b[0m\u001b[1;33m)\u001b[0m\u001b[1;33m:\u001b[0m\u001b[1;33m\u001b[0m\u001b[1;33m\u001b[0m\u001b[0m\n\u001b[1;32m-> 1084\u001b[1;33m             \u001b[0mresult\u001b[0m \u001b[1;33m=\u001b[0m \u001b[0mplugin\u001b[0m\u001b[1;33m.\u001b[0m\u001b[0mget\u001b[0m\u001b[1;33m(\u001b[0m\u001b[0mresult\u001b[0m\u001b[1;33m,\u001b[0m \u001b[0mquery\u001b[0m\u001b[1;33m.\u001b[0m\u001b[0mResult\u001b[0m\u001b[1;33m)\u001b[0m\u001b[1;33m\u001b[0m\u001b[1;33m\u001b[0m\u001b[0m\n\u001b[0m\u001b[0;32m   1085\u001b[0m         \u001b[1;32mif\u001b[0m \u001b[1;32mnot\u001b[0m \u001b[0misinstance\u001b[0m\u001b[1;33m(\u001b[0m\u001b[0mprocessor\u001b[0m\u001b[1;33m,\u001b[0m \u001b[0mquery\u001b[0m\u001b[1;33m.\u001b[0m\u001b[0mProcessor\u001b[0m\u001b[1;33m)\u001b[0m\u001b[1;33m:\u001b[0m\u001b[1;33m\u001b[0m\u001b[1;33m\u001b[0m\u001b[0m\n\u001b[0;32m   1086\u001b[0m             \u001b[0mprocessor\u001b[0m \u001b[1;33m=\u001b[0m \u001b[0mplugin\u001b[0m\u001b[1;33m.\u001b[0m\u001b[0mget\u001b[0m\u001b[1;33m(\u001b[0m\u001b[0mprocessor\u001b[0m\u001b[1;33m,\u001b[0m \u001b[0mquery\u001b[0m\u001b[1;33m.\u001b[0m\u001b[0mProcessor\u001b[0m\u001b[1;33m)\u001b[0m\u001b[1;33m(\u001b[0m\u001b[0mself\u001b[0m\u001b[1;33m)\u001b[0m\u001b[1;33m\u001b[0m\u001b[1;33m\u001b[0m\u001b[0m\n",
      "\u001b[1;32m~\\Anaconda3\\lib\\site-packages\\rdflib\\plugin.py\u001b[0m in \u001b[0;36mget\u001b[1;34m(name, kind)\u001b[0m\n\u001b[0;32m    102\u001b[0m         raise PluginException(\n\u001b[0;32m    103\u001b[0m             \"No plugin registered for (%s, %s)\" % (name, kind))\n\u001b[1;32m--> 104\u001b[1;33m     \u001b[1;32mreturn\u001b[0m \u001b[0mp\u001b[0m\u001b[1;33m.\u001b[0m\u001b[0mgetClass\u001b[0m\u001b[1;33m(\u001b[0m\u001b[1;33m)\u001b[0m\u001b[1;33m\u001b[0m\u001b[1;33m\u001b[0m\u001b[0m\n\u001b[0m\u001b[0;32m    105\u001b[0m \u001b[1;33m\u001b[0m\u001b[0m\n\u001b[0;32m    106\u001b[0m \u001b[1;33m\u001b[0m\u001b[0m\n",
      "\u001b[1;32m~\\Anaconda3\\lib\\site-packages\\rdflib\\plugin.py\u001b[0m in \u001b[0;36mgetClass\u001b[1;34m(self)\u001b[0m\n\u001b[0;32m     64\u001b[0m     \u001b[1;32mdef\u001b[0m \u001b[0mgetClass\u001b[0m\u001b[1;33m(\u001b[0m\u001b[0mself\u001b[0m\u001b[1;33m)\u001b[0m\u001b[1;33m:\u001b[0m\u001b[1;33m\u001b[0m\u001b[1;33m\u001b[0m\u001b[0m\n\u001b[0;32m     65\u001b[0m         \u001b[1;32mif\u001b[0m \u001b[0mself\u001b[0m\u001b[1;33m.\u001b[0m\u001b[0m_class\u001b[0m \u001b[1;32mis\u001b[0m \u001b[1;32mNone\u001b[0m\u001b[1;33m:\u001b[0m\u001b[1;33m\u001b[0m\u001b[1;33m\u001b[0m\u001b[0m\n\u001b[1;32m---> 66\u001b[1;33m             \u001b[0mmodule\u001b[0m \u001b[1;33m=\u001b[0m \u001b[0m__import__\u001b[0m\u001b[1;33m(\u001b[0m\u001b[0mself\u001b[0m\u001b[1;33m.\u001b[0m\u001b[0mmodule_path\u001b[0m\u001b[1;33m,\u001b[0m \u001b[0mglobals\u001b[0m\u001b[1;33m(\u001b[0m\u001b[1;33m)\u001b[0m\u001b[1;33m,\u001b[0m \u001b[0mlocals\u001b[0m\u001b[1;33m(\u001b[0m\u001b[1;33m)\u001b[0m\u001b[1;33m,\u001b[0m \u001b[1;33m[\u001b[0m\u001b[1;34m\"\"\u001b[0m\u001b[1;33m]\u001b[0m\u001b[1;33m)\u001b[0m\u001b[1;33m\u001b[0m\u001b[1;33m\u001b[0m\u001b[0m\n\u001b[0m\u001b[0;32m     67\u001b[0m             \u001b[0mself\u001b[0m\u001b[1;33m.\u001b[0m\u001b[0m_class\u001b[0m \u001b[1;33m=\u001b[0m \u001b[0mgetattr\u001b[0m\u001b[1;33m(\u001b[0m\u001b[0mmodule\u001b[0m\u001b[1;33m,\u001b[0m \u001b[0mself\u001b[0m\u001b[1;33m.\u001b[0m\u001b[0mclass_name\u001b[0m\u001b[1;33m)\u001b[0m\u001b[1;33m\u001b[0m\u001b[1;33m\u001b[0m\u001b[0m\n\u001b[0;32m     68\u001b[0m         \u001b[1;32mreturn\u001b[0m \u001b[0mself\u001b[0m\u001b[1;33m.\u001b[0m\u001b[0m_class\u001b[0m\u001b[1;33m\u001b[0m\u001b[1;33m\u001b[0m\u001b[0m\n",
      "\u001b[1;32m~\\Anaconda3\\lib\\site-packages\\rdflib\\plugins\\sparql\\__init__.py\u001b[0m in \u001b[0;36m<module>\u001b[1;34m\u001b[0m\n\u001b[0;32m     33\u001b[0m \u001b[1;33m\u001b[0m\u001b[0m\n\u001b[0;32m     34\u001b[0m \u001b[1;33m\u001b[0m\u001b[0m\n\u001b[1;32m---> 35\u001b[1;33m \u001b[1;32mfrom\u001b[0m \u001b[1;33m.\u001b[0m \u001b[1;32mimport\u001b[0m \u001b[0mparser\u001b[0m\u001b[1;33m\u001b[0m\u001b[1;33m\u001b[0m\u001b[0m\n\u001b[0m\u001b[0;32m     36\u001b[0m \u001b[1;32mfrom\u001b[0m \u001b[1;33m.\u001b[0m \u001b[1;32mimport\u001b[0m \u001b[0moperators\u001b[0m\u001b[1;33m\u001b[0m\u001b[1;33m\u001b[0m\u001b[0m\n\u001b[0;32m     37\u001b[0m \u001b[1;32mfrom\u001b[0m \u001b[1;33m.\u001b[0m \u001b[1;32mimport\u001b[0m \u001b[0mparserutils\u001b[0m\u001b[1;33m\u001b[0m\u001b[1;33m\u001b[0m\u001b[0m\n",
      "\u001b[1;32m~\\Anaconda3\\lib\\site-packages\\rdflib\\plugins\\sparql\\parser.py\u001b[0m in \u001b[0;36m<module>\u001b[1;34m\u001b[0m\n\u001b[0;32m    180\u001b[0m \u001b[1;31m# [140] PNAME_NS ::= PN_PREFIX? ':'\u001b[0m\u001b[1;33m\u001b[0m\u001b[1;33m\u001b[0m\u001b[0m\n\u001b[0;32m    181\u001b[0m PNAME_NS = Optional(\n\u001b[1;32m--> 182\u001b[1;33m     Param('prefix', PN_PREFIX)) + Suppress(':').leaveWhitespace()\n\u001b[0m\u001b[0;32m    183\u001b[0m \u001b[1;33m\u001b[0m\u001b[0m\n\u001b[0;32m    184\u001b[0m \u001b[1;31m# [173] PN_LOCAL_ESC ::= '\\' ( '_' | '~' | '.' | '-' | '!' | '$' | '&' | \"'\" | '(' | ')' | '*' | '+' | ',' | ';' | '=' | '/' | '?' | '#' | '@' | '%' )\u001b[0m\u001b[1;33m\u001b[0m\u001b[1;33m\u001b[0m\u001b[0m\n",
      "\u001b[1;32m~\\Anaconda3\\lib\\site-packages\\rdflib\\plugins\\sparql\\parserutils.py\u001b[0m in \u001b[0;36m__init__\u001b[1;34m(self, name, expr, isList)\u001b[0m\n\u001b[0;32m    111\u001b[0m     \"\"\"\n\u001b[0;32m    112\u001b[0m     \u001b[1;32mdef\u001b[0m \u001b[0m__init__\u001b[0m\u001b[1;33m(\u001b[0m\u001b[0mself\u001b[0m\u001b[1;33m,\u001b[0m \u001b[0mname\u001b[0m\u001b[1;33m,\u001b[0m \u001b[0mexpr\u001b[0m\u001b[1;33m,\u001b[0m \u001b[0misList\u001b[0m\u001b[1;33m=\u001b[0m\u001b[1;32mFalse\u001b[0m\u001b[1;33m)\u001b[0m\u001b[1;33m:\u001b[0m\u001b[1;33m\u001b[0m\u001b[1;33m\u001b[0m\u001b[0m\n\u001b[1;32m--> 113\u001b[1;33m         \u001b[0mself\u001b[0m\u001b[1;33m.\u001b[0m\u001b[0mname\u001b[0m \u001b[1;33m=\u001b[0m \u001b[0mname\u001b[0m\u001b[1;33m\u001b[0m\u001b[1;33m\u001b[0m\u001b[0m\n\u001b[0m\u001b[0;32m    114\u001b[0m         \u001b[0mself\u001b[0m\u001b[1;33m.\u001b[0m\u001b[0misList\u001b[0m \u001b[1;33m=\u001b[0m \u001b[0misList\u001b[0m\u001b[1;33m\u001b[0m\u001b[1;33m\u001b[0m\u001b[0m\n\u001b[0;32m    115\u001b[0m         \u001b[0mTokenConverter\u001b[0m\u001b[1;33m.\u001b[0m\u001b[0m__init__\u001b[0m\u001b[1;33m(\u001b[0m\u001b[0mself\u001b[0m\u001b[1;33m,\u001b[0m \u001b[0mexpr\u001b[0m\u001b[1;33m)\u001b[0m\u001b[1;33m\u001b[0m\u001b[1;33m\u001b[0m\u001b[0m\n",
      "\u001b[1;31mAttributeError\u001b[0m: can't set attribute"
     ]
    }
   ],
   "source": [
    "query = \"\"\"PREFIX rdf: <http://www.w3.org/1999/02/22-rdf-syntax-ns#>\n",
    "PREFIX ddidpi: <http://www.project-ddidpi.de/vocab/#>\n",
    "prefix pubmed: <http://purl.uniprot.org/pubmed/>\n",
    "    \n",
    "select distinct ?precipitant ?precipitant_dbpedia ?object ?object_dbpedia ?effect ?impact\n",
    "                ?protein ?category ?action ?gene ?organism ?pubmed\n",
    "where {\n",
    "    ?ddi <http://www.project-ddidpi.de/vocab/hasPrecipitantDrug> ?precipitant .\n",
    "    ?precipitant <http://www.project-ddidpi.de/vocab/hasdbpediaResource> ?precipitant_dbpedia .\n",
    "    ?ddi <http://www.project-ddidpi.de/vocab/hasObjectDrug> ?object .\n",
    "    ?object <http://www.project-ddidpi.de/vocab/hasdbpediaResource> ?object_dbpedia .\n",
    "    ?ddi <http://www.project-ddidpi.de/vocab/hasEffect> ?effect .\n",
    "    ?ddi <http://www.project-ddidpi.de/vocab/hasImpact> ?impact .\n",
    "    \n",
    "    ?dpi <http://www.project-ddidpi.de/vocab/hasDrugID> ?object .\n",
    "    ?dpi <http://www.project-ddidpi.de/vocab/hasProteinID> ?protein .\n",
    "    ?dpi <http://www.project-ddidpi.de/vocab/hasCategory> ?category .\n",
    "    ?dpi <http://www.project-ddidpi.de/vocab/hasActions> ?action .\n",
    "    ?dpi <http://www.project-ddidpi.de/vocab/hasEntrez_gene_id> ?gene .\n",
    "    ?dpi <http://www.project-ddidpi.de/vocab/hasOrganism> ?organism .\n",
    "    ?dpi <http://www.project-ddidpi.de/vocab/hasPubMedID> ?pubmed .\n",
    "    \n",
    "    } LIMIT 20\n",
    "    \"\"\"\n",
    "\n",
    "#qres = g.query(query)\n",
    "#df1 = sparql_results_to_df(qres)\n",
    "#df1\n",
    "results = g.query(query)"
   ]
  },
  {
   "cell_type": "code",
   "execution_count": null,
   "id": "39998f13",
   "metadata": {},
   "outputs": [],
   "source": [
    "import pandas as pd\n",
    "\n",
    "# results is a rdflib.plugins.sparql.processor.SPARQLResult object\n",
    "\n",
    "# renders properly in notebooks, but DataFrame values are rdflib objects rather than builtin python types\n",
    "pd.DataFrame(results.bindings)\n",
    "\n",
    "# converts everything to strings including missing values\n",
    "pd.DataFrame(results.bindings).applymap(str).rename(columns=str)\n",
    "\n",
    "# serialize with json and then parse (clobbers types, converting values to strings)\n",
    "import json\n",
    "results_json = results.serialize(format=\"json\")\n",
    "bindings = json.loads(results_json)[\"results\"][\"bindings\"]\n",
    "bindings = [{k: v[\"value\"] for k, v in result.items()} for result in bindings]\n",
    "pd.DataFrame(bindings)"
   ]
  },
  {
   "cell_type": "code",
   "execution_count": 2,
   "id": "90c7ec65",
   "metadata": {},
   "outputs": [],
   "source": [
    "lines = []\n",
    "with open(\"dataset/graph/ddidpi.nt\") as f:\n",
    "    lines = f.readlines()"
   ]
  },
  {
   "cell_type": "code",
   "execution_count": 11,
   "id": "10673e24",
   "metadata": {},
   "outputs": [],
   "source": [
    "path = 'dataset/graph/'\n",
    "def save_graph(path, line):\n",
    "    with open(path + 'plot_ddidpi.csv', 'a') as file:\n",
    "        file.write(line)\n",
    "save_graph(path, 'Source Label Target\\n')\n",
    "\n",
    "count = 0\n",
    "for line in lines:\n",
    "    count += 1\n",
    "    #print(f'line {count}: {line}')\n",
    "    a = line.replace('>.', '>')# + '\\n'\n",
    "    a = a.replace('<http://www.project-ddidpi.de/DPI/', '')\n",
    "    a = a.replace('<http://purl.uniprot.org/pubmed/', 'pubmed:')\n",
    "    a = a.replace('<http://www.project-ddidpi.de/vocab/DPI>', 'DPI')\n",
    "    a = a.replace('<http://www.project-ddidpi.de/vocab/', '')\n",
    "    a = a.replace('<http://www.w3.org/1999/02/22-rdf-syntax-ns#', '')\n",
    "    a = a.replace('<http://www.project-ddidpi.de/DDI/', '')\n",
    "    a = a.replace('^^<http://www.w3.org/2001/XMLSchema#string', '')\n",
    "    a = a.replace('<http://www.project-ddidpi.de/Drug/', 'Drug:') \n",
    "    \n",
    "    a = a.replace('<http://purl.uniprot.org/uniprot/', 'uniprot:') \n",
    "    a = a.replace('<http://dbpedia.org/resource/', '') \n",
    "    a = a.replace('<http://www.project-ddidpi.de/Annotation/', '') \n",
    "    a = a.replace('<http://www.project-ddidpi.de/Protein/', 'Protein:') \n",
    "    a = a.replace('<http://purl.uniprot.org/geneid/', 'gene:') \n",
    "    \n",
    "    a = a.replace('>', '')\n",
    "    save_graph(path, a)"
   ]
  },
  {
   "cell_type": "code",
   "execution_count": null,
   "id": "fd7816d3",
   "metadata": {},
   "outputs": [],
   "source": []
  }
 ],
 "metadata": {
  "kernelspec": {
   "display_name": "Python 3 (ipykernel)",
   "language": "python",
   "name": "python3"
  },
  "language_info": {
   "codemirror_mode": {
    "name": "ipython",
    "version": 3
   },
   "file_extension": ".py",
   "mimetype": "text/x-python",
   "name": "python",
   "nbconvert_exporter": "python",
   "pygments_lexer": "ipython3",
   "version": "3.9.7"
  }
 },
 "nbformat": 4,
 "nbformat_minor": 5
}
